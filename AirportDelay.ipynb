{
 "cells": [
  {
   "cell_type": "code",
   "execution_count": 1,
   "id": "402ad220",
   "metadata": {},
   "outputs": [],
   "source": [
    "import pandas as pd\n",
    "import numpy as np \n",
    "import matplotlib.pyplot as plt\n",
    "import seaborn as sbn\n",
    "import sklearn"
   ]
  },
  {
   "cell_type": "markdown",
   "id": "e4ffeb20",
   "metadata": {},
   "source": [
    "# Data cleaning #"
   ]
  },
  {
   "cell_type": "code",
   "execution_count": 46,
   "id": "a0566272",
   "metadata": {},
   "outputs": [],
   "source": [
    "df= pd.read_csv(\"airlines_delay.csv\")"
   ]
  },
  {
   "cell_type": "code",
   "execution_count": 47,
   "id": "92155883",
   "metadata": {},
   "outputs": [
    {
     "data": {
      "text/html": [
       "<div>\n",
       "<style scoped>\n",
       "    .dataframe tbody tr th:only-of-type {\n",
       "        vertical-align: middle;\n",
       "    }\n",
       "\n",
       "    .dataframe tbody tr th {\n",
       "        vertical-align: top;\n",
       "    }\n",
       "\n",
       "    .dataframe thead th {\n",
       "        text-align: right;\n",
       "    }\n",
       "</style>\n",
       "<table border=\"1\" class=\"dataframe\">\n",
       "  <thead>\n",
       "    <tr style=\"text-align: right;\">\n",
       "      <th></th>\n",
       "      <th>Flight</th>\n",
       "      <th>Time</th>\n",
       "      <th>Length</th>\n",
       "      <th>Airline</th>\n",
       "      <th>AirportFrom</th>\n",
       "      <th>AirportTo</th>\n",
       "      <th>DayOfWeek</th>\n",
       "      <th>Class</th>\n",
       "    </tr>\n",
       "  </thead>\n",
       "  <tbody>\n",
       "    <tr>\n",
       "      <th>0</th>\n",
       "      <td>2313.0</td>\n",
       "      <td>1296.0</td>\n",
       "      <td>141.0</td>\n",
       "      <td>DL</td>\n",
       "      <td>ATL</td>\n",
       "      <td>HOU</td>\n",
       "      <td>1</td>\n",
       "      <td>0</td>\n",
       "    </tr>\n",
       "    <tr>\n",
       "      <th>1</th>\n",
       "      <td>6948.0</td>\n",
       "      <td>360.0</td>\n",
       "      <td>146.0</td>\n",
       "      <td>OO</td>\n",
       "      <td>COS</td>\n",
       "      <td>ORD</td>\n",
       "      <td>4</td>\n",
       "      <td>0</td>\n",
       "    </tr>\n",
       "    <tr>\n",
       "      <th>2</th>\n",
       "      <td>1247.0</td>\n",
       "      <td>1170.0</td>\n",
       "      <td>143.0</td>\n",
       "      <td>B6</td>\n",
       "      <td>BOS</td>\n",
       "      <td>CLT</td>\n",
       "      <td>3</td>\n",
       "      <td>0</td>\n",
       "    </tr>\n",
       "    <tr>\n",
       "      <th>3</th>\n",
       "      <td>31.0</td>\n",
       "      <td>1410.0</td>\n",
       "      <td>344.0</td>\n",
       "      <td>US</td>\n",
       "      <td>OGG</td>\n",
       "      <td>PHX</td>\n",
       "      <td>6</td>\n",
       "      <td>0</td>\n",
       "    </tr>\n",
       "    <tr>\n",
       "      <th>4</th>\n",
       "      <td>563.0</td>\n",
       "      <td>692.0</td>\n",
       "      <td>98.0</td>\n",
       "      <td>FL</td>\n",
       "      <td>BMI</td>\n",
       "      <td>ATL</td>\n",
       "      <td>4</td>\n",
       "      <td>0</td>\n",
       "    </tr>\n",
       "  </tbody>\n",
       "</table>\n",
       "</div>"
      ],
      "text/plain": [
       "   Flight    Time  Length Airline AirportFrom AirportTo  DayOfWeek  Class\n",
       "0  2313.0  1296.0   141.0      DL         ATL       HOU          1      0\n",
       "1  6948.0   360.0   146.0      OO         COS       ORD          4      0\n",
       "2  1247.0  1170.0   143.0      B6         BOS       CLT          3      0\n",
       "3    31.0  1410.0   344.0      US         OGG       PHX          6      0\n",
       "4   563.0   692.0    98.0      FL         BMI       ATL          4      0"
      ]
     },
     "execution_count": 47,
     "metadata": {},
     "output_type": "execute_result"
    }
   ],
   "source": [
    "df.head()"
   ]
  },
  {
   "cell_type": "markdown",
   "id": "fe34d3bf",
   "metadata": {},
   "source": [
    "#### Check for null values ##"
   ]
  },
  {
   "cell_type": "code",
   "execution_count": 48,
   "id": "30ce591c",
   "metadata": {},
   "outputs": [
    {
     "data": {
      "text/plain": [
       "Flight         0\n",
       "Time           0\n",
       "Length         0\n",
       "Airline        0\n",
       "AirportFrom    0\n",
       "AirportTo      0\n",
       "DayOfWeek      0\n",
       "Class          0\n",
       "dtype: int64"
      ]
     },
     "execution_count": 48,
     "metadata": {},
     "output_type": "execute_result"
    }
   ],
   "source": [
    "df.isnull().sum()"
   ]
  },
  {
   "cell_type": "code",
   "execution_count": 49,
   "id": "ec7f6a05",
   "metadata": {},
   "outputs": [
    {
     "data": {
      "text/plain": [
       "<AxesSubplot:xlabel='DayOfWeek', ylabel='count'>"
      ]
     },
     "execution_count": 49,
     "metadata": {},
     "output_type": "execute_result"
    },
    {
     "data": {
      "image/png": "[encoded data removed]",
      "text/plain": [
       "<Figure size 432x288 with 1 Axes>"
      ]
     },
     "metadata": {
      "needs_background": "light"
     },
     "output_type": "display_data"
    }
   ],
   "source": [
    "sbn.countplot(data=df,x=\"DayOfWeek\")"
   ]
  },
  {
   "cell_type": "code",
   "execution_count": 50,
   "id": "ec5c2044",
   "metadata": {},
   "outputs": [
    {
     "data": {
      "text/plain": [
       "array([<AxesSubplot:ylabel='Flight'>, <AxesSubplot:ylabel='Time'>,\n",
       "       <AxesSubplot:ylabel='Length'>, <AxesSubplot:ylabel='DayOfWeek'>],\n",
       "      dtype=object)"
      ]
     },
     "execution_count": 50,
     "metadata": {},
     "output_type": "execute_result"
    },
    {
     "data": {
      "image/png": "[encoded data removed]",
      "text/plain": [
       "<Figure size 1440x720 with 4 Axes>"
      ]
     },
     "metadata": {},
     "output_type": "display_data"
    }
   ],
   "source": [
    "df.groupby(['Class']).sum().plot(kind='pie',subplots=True,figsize=(20,10))"
   ]
  },
  {
   "cell_type": "code",
   "execution_count": 51,
   "id": "beecb550",
   "metadata": {},
   "outputs": [],
   "source": [
    "z = df.groupby(['DayOfWeek','Class']).count().unstack('Class')['Time']"
   ]
  },
  {
   "cell_type": "code",
   "execution_count": 52,
   "id": "7cb48939",
   "metadata": {},
   "outputs": [],
   "source": [
    "for i in range(z.shape[0]):\n",
    "    FlightsNum = z.iloc[i,0]+z.iloc[i,1]\n",
    "    for j in [0,1]:\n",
    "        z.iloc[i,j] = z.iloc[i,j]/FlightsNum"
   ]
  },
  {
   "cell_type": "code",
   "execution_count": 53,
   "id": "b7823bd4",
   "metadata": {},
   "outputs": [
    {
     "data": {
      "text/plain": [
       "69879.0"
      ]
     },
     "execution_count": 53,
     "metadata": {},
     "output_type": "execute_result"
    }
   ],
   "source": [
    "FlightsNum"
   ]
  },
  {
   "cell_type": "markdown",
   "id": "fd46c416",
   "metadata": {},
   "source": [
    "### Delaying graphics per day"
   ]
  },
  {
   "cell_type": "code",
   "execution_count": 54,
   "id": "781f9158",
   "metadata": {},
   "outputs": [
    {
     "data": {
      "image/png": "[encoded data removed]",
      "text/plain": [
       "<Figure size 432x288 with 1 Axes>"
      ]
     },
     "metadata": {},
     "output_type": "display_data"
    },
    {
     "data": {
      "image/png": "[encoded data removed]",
      "text/plain": [
       "<Figure size 432x288 with 1 Axes>"
      ]
     },
     "metadata": {},
     "output_type": "display_data"
    },
    {
     "data": {
      "image/png": "[encoded data removed]",
      "text/plain": [
       "<Figure size 432x288 with 1 Axes>"
      ]
     },
     "metadata": {},
     "output_type": "display_data"
    },
    {
     "data": {
      "image/png": "[encoded data removed]",
      "text/plain": [
       "<Figure size 432x288 with 1 Axes>"
      ]
     },
     "metadata": {},
     "output_type": "display_data"
    },
    {
     "data": {
      "image/png": "[encoded data removed]",
      "text/plain": [
       "<Figure size 432x288 with 1 Axes>"
      ]
     },
     "metadata": {},
     "output_type": "display_data"
    },
    {
     "data": {
      "image/png": "[encoded data removed]",
      "text/plain": [
       "<Figure size 432x288 with 1 Axes>"
      ]
     },
     "metadata": {},
     "output_type": "display_data"
    },
    {
     "data": {
      "image/png": "[encoded data removed]",
      "text/plain": [
       "<Figure size 432x288 with 1 Axes>"
      ]
     },
     "metadata": {},
     "output_type": "display_data"
    }
   ],
   "source": [
    "for i in range(1,8):\n",
    "    j=z.iloc[i-1,:]\n",
    "    Labels=[\"Not Delayed\",\"Delayed\"]\n",
    "    plt.pie(j,labels=Labels, autopct='%.0f%%')\n",
    "    plt.title('Day ' + str(i))\n",
    "    plt.show()\n",
    "    "
   ]
  },
  {
   "cell_type": "markdown",
   "id": "e6c6d915",
   "metadata": {},
   "source": [
    "### Delaying graphics each Airlines"
   ]
  },
  {
   "cell_type": "code",
   "execution_count": 36,
   "id": "4f4da38a",
   "metadata": {
    "collapsed": true
   },
   "outputs": [
    {
     "data": {
      "text/html": [
       "<div>\n",
       "<style scoped>\n",
       "    .dataframe tbody tr th:only-of-type {\n",
       "        vertical-align: middle;\n",
       "    }\n",
       "\n",
       "    .dataframe tbody tr th {\n",
       "        vertical-align: top;\n",
       "    }\n",
       "\n",
       "    .dataframe thead th {\n",
       "        text-align: right;\n",
       "    }\n",
       "</style>\n",
       "<table border=\"1\" class=\"dataframe\">\n",
       "  <thead>\n",
       "    <tr style=\"text-align: right;\">\n",
       "      <th>Class</th>\n",
       "      <th>0</th>\n",
       "      <th>1</th>\n",
       "    </tr>\n",
       "    <tr>\n",
       "      <th>Airline</th>\n",
       "      <th></th>\n",
       "      <th></th>\n",
       "    </tr>\n",
       "  </thead>\n",
       "  <tbody>\n",
       "    <tr>\n",
       "      <th>0</th>\n",
       "      <td>12460</td>\n",
       "      <td>8226</td>\n",
       "    </tr>\n",
       "    <tr>\n",
       "      <th>1</th>\n",
       "      <td>27920</td>\n",
       "      <td>17736</td>\n",
       "    </tr>\n",
       "    <tr>\n",
       "      <th>2</th>\n",
       "      <td>7579</td>\n",
       "      <td>3892</td>\n",
       "    </tr>\n",
       "    <tr>\n",
       "      <th>3</th>\n",
       "      <td>9653</td>\n",
       "      <td>8459</td>\n",
       "    </tr>\n",
       "    <tr>\n",
       "      <th>4</th>\n",
       "      <td>9161</td>\n",
       "      <td>11957</td>\n",
       "    </tr>\n",
       "    <tr>\n",
       "      <th>5</th>\n",
       "      <td>33488</td>\n",
       "      <td>27452</td>\n",
       "    </tr>\n",
       "    <tr>\n",
       "      <th>6</th>\n",
       "      <td>16728</td>\n",
       "      <td>11255</td>\n",
       "    </tr>\n",
       "    <tr>\n",
       "      <th>7</th>\n",
       "      <td>3557</td>\n",
       "      <td>2899</td>\n",
       "    </tr>\n",
       "    <tr>\n",
       "      <th>8</th>\n",
       "      <td>14552</td>\n",
       "      <td>6275</td>\n",
       "    </tr>\n",
       "    <tr>\n",
       "      <th>9</th>\n",
       "      <td>3792</td>\n",
       "      <td>1786</td>\n",
       "    </tr>\n",
       "    <tr>\n",
       "      <th>10</th>\n",
       "      <td>23862</td>\n",
       "      <td>12742</td>\n",
       "    </tr>\n",
       "    <tr>\n",
       "      <th>11</th>\n",
       "      <td>9128</td>\n",
       "      <td>3502</td>\n",
       "    </tr>\n",
       "    <tr>\n",
       "      <th>12</th>\n",
       "      <td>27494</td>\n",
       "      <td>22760</td>\n",
       "    </tr>\n",
       "    <tr>\n",
       "      <th>13</th>\n",
       "      <td>18673</td>\n",
       "      <td>8946</td>\n",
       "    </tr>\n",
       "    <tr>\n",
       "      <th>14</th>\n",
       "      <td>22909</td>\n",
       "      <td>11591</td>\n",
       "    </tr>\n",
       "    <tr>\n",
       "      <th>15</th>\n",
       "      <td>28440</td>\n",
       "      <td>65657</td>\n",
       "    </tr>\n",
       "    <tr>\n",
       "      <th>16</th>\n",
       "      <td>19331</td>\n",
       "      <td>11795</td>\n",
       "    </tr>\n",
       "    <tr>\n",
       "      <th>17</th>\n",
       "      <td>10391</td>\n",
       "      <td>3334</td>\n",
       "    </tr>\n",
       "  </tbody>\n",
       "</table>\n",
       "</div>"
      ],
      "text/plain": [
       "Class        0      1\n",
       "Airline              \n",
       "0        12460   8226\n",
       "1        27920  17736\n",
       "2         7579   3892\n",
       "3         9653   8459\n",
       "4         9161  11957\n",
       "5        33488  27452\n",
       "6        16728  11255\n",
       "7         3557   2899\n",
       "8        14552   6275\n",
       "9         3792   1786\n",
       "10       23862  12742\n",
       "11        9128   3502\n",
       "12       27494  22760\n",
       "13       18673   8946\n",
       "14       22909  11591\n",
       "15       28440  65657\n",
       "16       19331  11795\n",
       "17       10391   3334"
      ]
     },
     "execution_count": 36,
     "metadata": {},
     "output_type": "execute_result"
    }
   ],
   "source": [
    "a = df.groupby(['Airline','Class']).count().unstack('Class')['Time']\n",
    "\n",
    "a"
   ]
  },
  {
   "cell_type": "code",
   "execution_count": 55,
   "id": "fd00f656",
   "metadata": {},
   "outputs": [
    {
     "data": {
      "text/html": [
       "<div>\n",
       "<style scoped>\n",
       "    .dataframe tbody tr th:only-of-type {\n",
       "        vertical-align: middle;\n",
       "    }\n",
       "\n",
       "    .dataframe tbody tr th {\n",
       "        vertical-align: top;\n",
       "    }\n",
       "\n",
       "    .dataframe thead th {\n",
       "        text-align: right;\n",
       "    }\n",
       "</style>\n",
       "<table border=\"1\" class=\"dataframe\">\n",
       "  <thead>\n",
       "    <tr style=\"text-align: right;\">\n",
       "      <th>Class</th>\n",
       "      <th>0</th>\n",
       "      <th>1</th>\n",
       "    </tr>\n",
       "    <tr>\n",
       "      <th>Airline</th>\n",
       "      <th></th>\n",
       "      <th></th>\n",
       "    </tr>\n",
       "  </thead>\n",
       "  <tbody>\n",
       "    <tr>\n",
       "      <th>9E</th>\n",
       "      <td>0.602340</td>\n",
       "      <td>0.397660</td>\n",
       "    </tr>\n",
       "    <tr>\n",
       "      <th>AA</th>\n",
       "      <td>0.611530</td>\n",
       "      <td>0.388470</td>\n",
       "    </tr>\n",
       "    <tr>\n",
       "      <th>AS</th>\n",
       "      <td>0.660710</td>\n",
       "      <td>0.339290</td>\n",
       "    </tr>\n",
       "    <tr>\n",
       "      <th>B6</th>\n",
       "      <td>0.532962</td>\n",
       "      <td>0.467038</td>\n",
       "    </tr>\n",
       "    <tr>\n",
       "      <th>CO</th>\n",
       "      <td>0.433801</td>\n",
       "      <td>0.566199</td>\n",
       "    </tr>\n",
       "    <tr>\n",
       "      <th>DL</th>\n",
       "      <td>0.549524</td>\n",
       "      <td>0.450476</td>\n",
       "    </tr>\n",
       "    <tr>\n",
       "      <th>EV</th>\n",
       "      <td>0.597792</td>\n",
       "      <td>0.402208</td>\n",
       "    </tr>\n",
       "    <tr>\n",
       "      <th>F9</th>\n",
       "      <td>0.550960</td>\n",
       "      <td>0.449040</td>\n",
       "    </tr>\n",
       "    <tr>\n",
       "      <th>FL</th>\n",
       "      <td>0.698708</td>\n",
       "      <td>0.301292</td>\n",
       "    </tr>\n",
       "    <tr>\n",
       "      <th>HA</th>\n",
       "      <td>0.679814</td>\n",
       "      <td>0.320186</td>\n",
       "    </tr>\n",
       "    <tr>\n",
       "      <th>MQ</th>\n",
       "      <td>0.651896</td>\n",
       "      <td>0.348104</td>\n",
       "    </tr>\n",
       "    <tr>\n",
       "      <th>OH</th>\n",
       "      <td>0.722724</td>\n",
       "      <td>0.277276</td>\n",
       "    </tr>\n",
       "    <tr>\n",
       "      <th>OO</th>\n",
       "      <td>0.547101</td>\n",
       "      <td>0.452899</td>\n",
       "    </tr>\n",
       "    <tr>\n",
       "      <th>UA</th>\n",
       "      <td>0.676093</td>\n",
       "      <td>0.323907</td>\n",
       "    </tr>\n",
       "    <tr>\n",
       "      <th>US</th>\n",
       "      <td>0.664029</td>\n",
       "      <td>0.335971</td>\n",
       "    </tr>\n",
       "    <tr>\n",
       "      <th>WN</th>\n",
       "      <td>0.302241</td>\n",
       "      <td>0.697759</td>\n",
       "    </tr>\n",
       "    <tr>\n",
       "      <th>XE</th>\n",
       "      <td>0.621056</td>\n",
       "      <td>0.378944</td>\n",
       "    </tr>\n",
       "    <tr>\n",
       "      <th>YV</th>\n",
       "      <td>0.757086</td>\n",
       "      <td>0.242914</td>\n",
       "    </tr>\n",
       "  </tbody>\n",
       "</table>\n",
       "</div>"
      ],
      "text/plain": [
       "Class           0         1\n",
       "Airline                    \n",
       "9E       0.602340  0.397660\n",
       "AA       0.611530  0.388470\n",
       "AS       0.660710  0.339290\n",
       "B6       0.532962  0.467038\n",
       "CO       0.433801  0.566199\n",
       "DL       0.549524  0.450476\n",
       "EV       0.597792  0.402208\n",
       "F9       0.550960  0.449040\n",
       "FL       0.698708  0.301292\n",
       "HA       0.679814  0.320186\n",
       "MQ       0.651896  0.348104\n",
       "OH       0.722724  0.277276\n",
       "OO       0.547101  0.452899\n",
       "UA       0.676093  0.323907\n",
       "US       0.664029  0.335971\n",
       "WN       0.302241  0.697759\n",
       "XE       0.621056  0.378944\n",
       "YV       0.757086  0.242914"
      ]
     },
     "execution_count": 55,
     "metadata": {},
     "output_type": "execute_result"
    }
   ],
   "source": [
    "a = df.groupby(['Airline','Class']).count().unstack('Class')['Time']\n",
    "\n",
    "for i in range(a.shape[0]):\n",
    "    numOfFlights = a.iloc[i,0]+a.iloc[i,1]\n",
    "    for j in [0,1]:\n",
    "        a.iloc[i,j] = a.iloc[i,j]/numOfFlights\n",
    "a"
   ]
  },
  {
   "cell_type": "code",
   "execution_count": 56,
   "id": "1b3418ae",
   "metadata": {},
   "outputs": [
    {
     "data": {
      "image/png": "[encoded data removed]",
      "text/plain": [
       "<Figure size 432x288 with 1 Axes>"
      ]
     },
     "metadata": {},
     "output_type": "display_data"
    },
    {
     "data": {
      "image/png": "[encoded data removed]",
      "text/plain": [
       "<Figure size 432x288 with 1 Axes>"
      ]
     },
     "metadata": {},
     "output_type": "display_data"
    },
    {
     "data": {
      "image/png": "[encoded data removed]",
      "text/plain": [
       "<Figure size 432x288 with 1 Axes>"
      ]
     },
     "metadata": {},
     "output_type": "display_data"
    },
    {
     "data": {
      "image/png": "[encoded data removed]",
      "text/plain": [
       "<Figure size 432x288 with 1 Axes>"
      ]
     },
     "metadata": {},
     "output_type": "display_data"
    },
    {
     "data": {
      "image/png": "[encoded data removed]",
      "text/plain": [
       "<Figure size 432x288 with 1 Axes>"
      ]
     },
     "metadata": {},
     "output_type": "display_data"
    },
    {
     "data": {
      "image/png": "[encoded data removed]",
      "text/plain": [
       "<Figure size 432x288 with 1 Axes>"
      ]
     },
     "metadata": {},
     "output_type": "display_data"
    },
    {
     "data": {
      "image/png": "[encoded data removed]",
      "text/plain": [
       "<Figure size 432x288 with 1 Axes>"
      ]
     },
     "metadata": {},
     "output_type": "display_data"
    },
    {
     "data": {
      "image/png": "[encoded data removed]",
      "text/plain": [
       "<Figure size 432x288 with 1 Axes>"
      ]
     },
     "metadata": {},
     "output_type": "display_data"
    },
    {
     "data": {
      "image/png": "[encoded data removed]",
      "text/plain": [
       "<Figure size 432x288 with 1 Axes>"
      ]
     },
     "metadata": {},
     "output_type": "display_data"
    },
    {
     "data": {
      "image/png": "[encoded data removed]",
      "text/plain": [
       "<Figure size 432x288 with 1 Axes>"
      ]
     },
     "metadata": {},
     "output_type": "display_data"
    },
    {
     "data": {
      "image/png": "[encoded data removed]",
      "text/plain": [
       "<Figure size 432x288 with 1 Axes>"
      ]
     },
     "metadata": {},
     "output_type": "display_data"
    },
    {
     "data": {
      "image/png": "[encoded data removed]",
      "text/plain": [
       "<Figure size 432x288 with 1 Axes>"
      ]
     },
     "metadata": {},
     "output_type": "display_data"
    },
    {
     "data": {
      "image/png": "[encoded data removed]",
      "text/plain": [
       "<Figure size 432x288 with 1 Axes>"
      ]
     },
     "metadata": {},
     "output_type": "display_data"
    },
    {
     "data": {
      "image/png": "[encoded data removed]",
      "text/plain": [
       "<Figure size 432x288 with 1 Axes>"
      ]
     },
     "metadata": {},
     "output_type": "display_data"
    },
    {
     "data": {
      "image/png": "[encoded data removed]",
      "text/plain": [
       "<Figure size 432x288 with 1 Axes>"
      ]
     },
     "metadata": {},
     "output_type": "display_data"
    },
    {
     "data": {
      "image/png": "[encoded data removed]",
      "text/plain": [
       "<Figure size 432x288 with 1 Axes>"
      ]
     },
     "metadata": {},
     "output_type": "display_data"
    },
    {
     "data": {
      "image/png": "[encoded data removed]",
      "text/plain": [
       "<Figure size 432x288 with 1 Axes>"
      ]
     },
     "metadata": {},
     "output_type": "display_data"
    },
    {
     "data": {
      "image/png": "[encoded data removed]",
      "text/plain": [
       "<Figure size 432x288 with 1 Axes>"
      ]
     },
     "metadata": {},
     "output_type": "display_data"
    }
   ],
   "source": [
    "\n",
    "for i in range(a.shape[0]):\n",
    "    f=a.iloc[i,:]\n",
    "    r=a.iloc[0:,:0]\n",
    "    Labels=[\"Not Delayed\",\"Delayed\"]\n",
    "    plt.pie(f,labels=Labels,autopct='%.0f%%')\n",
    "    plt.title(\"Airline: \" + r.index[i])\n",
    "    plt.show()"
   ]
  },
  {
   "cell_type": "markdown",
   "id": "c043bd97",
   "metadata": {},
   "source": [
    "### Checking categorical values and applying label encoding"
   ]
  },
  {
   "cell_type": "code",
   "execution_count": 58,
   "id": "631c85b6",
   "metadata": {},
   "outputs": [
    {
     "data": {
      "text/plain": [
       "Flight         float64\n",
       "Time           float64\n",
       "Length         float64\n",
       "Airline         object\n",
       "AirportFrom     object\n",
       "AirportTo       object\n",
       "DayOfWeek        int64\n",
       "Class            int64\n",
       "dtype: object"
      ]
     },
     "execution_count": 58,
     "metadata": {},
     "output_type": "execute_result"
    }
   ],
   "source": [
    "df.dtypes"
   ]
  },
  {
   "cell_type": "code",
   "execution_count": 59,
   "id": "11cea177",
   "metadata": {},
   "outputs": [],
   "source": [
    "from sklearn.preprocessing import LabelEncoder\n",
    "le=LabelEncoder()\n",
    "\n",
    "df.iloc[:,3]=le.fit_transform(df.iloc[:,3])\n",
    "df.iloc[:,4]=le.fit_transform(df.iloc[:,4])\n",
    "df.iloc[:,5]=le.fit_transform(df.iloc[:,5])\n"
   ]
  },
  {
   "cell_type": "code",
   "execution_count": 60,
   "id": "b60747d5",
   "metadata": {},
   "outputs": [
    {
     "data": {
      "text/plain": [
       "Flight         float64\n",
       "Time           float64\n",
       "Length         float64\n",
       "Airline          int32\n",
       "AirportFrom      int32\n",
       "AirportTo        int32\n",
       "DayOfWeek        int64\n",
       "Class            int64\n",
       "dtype: object"
      ]
     },
     "execution_count": 60,
     "metadata": {},
     "output_type": "execute_result"
    }
   ],
   "source": [
    "df.dtypes"
   ]
  },
  {
   "cell_type": "code",
   "execution_count": 61,
   "id": "28a04e39",
   "metadata": {},
   "outputs": [
    {
     "data": {
      "text/html": [
       "<div>\n",
       "<style scoped>\n",
       "    .dataframe tbody tr th:only-of-type {\n",
       "        vertical-align: middle;\n",
       "    }\n",
       "\n",
       "    .dataframe tbody tr th {\n",
       "        vertical-align: top;\n",
       "    }\n",
       "\n",
       "    .dataframe thead th {\n",
       "        text-align: right;\n",
       "    }\n",
       "</style>\n",
       "<table border=\"1\" class=\"dataframe\">\n",
       "  <thead>\n",
       "    <tr style=\"text-align: right;\">\n",
       "      <th></th>\n",
       "      <th>Flight</th>\n",
       "      <th>Time</th>\n",
       "      <th>Length</th>\n",
       "      <th>Airline</th>\n",
       "      <th>AirportFrom</th>\n",
       "      <th>AirportTo</th>\n",
       "      <th>DayOfWeek</th>\n",
       "      <th>Class</th>\n",
       "    </tr>\n",
       "  </thead>\n",
       "  <tbody>\n",
       "    <tr>\n",
       "      <th>Flight</th>\n",
       "      <td>1.000000</td>\n",
       "      <td>-0.005750</td>\n",
       "      <td>-0.341481</td>\n",
       "      <td>0.095285</td>\n",
       "      <td>-0.021801</td>\n",
       "      <td>-0.022072</td>\n",
       "      <td>0.000416</td>\n",
       "      <td>-0.046174</td>\n",
       "    </tr>\n",
       "    <tr>\n",
       "      <th>Time</th>\n",
       "      <td>-0.005750</td>\n",
       "      <td>1.000000</td>\n",
       "      <td>-0.020610</td>\n",
       "      <td>0.004381</td>\n",
       "      <td>-0.031553</td>\n",
       "      <td>0.030602</td>\n",
       "      <td>0.001272</td>\n",
       "      <td>0.150457</td>\n",
       "    </tr>\n",
       "    <tr>\n",
       "      <th>Length</th>\n",
       "      <td>-0.341481</td>\n",
       "      <td>-0.020610</td>\n",
       "      <td>1.000000</td>\n",
       "      <td>-0.207061</td>\n",
       "      <td>0.049697</td>\n",
       "      <td>0.086980</td>\n",
       "      <td>0.013398</td>\n",
       "      <td>0.040488</td>\n",
       "    </tr>\n",
       "    <tr>\n",
       "      <th>Airline</th>\n",
       "      <td>0.095285</td>\n",
       "      <td>0.004381</td>\n",
       "      <td>-0.207061</td>\n",
       "      <td>1.000000</td>\n",
       "      <td>0.098237</td>\n",
       "      <td>0.098791</td>\n",
       "      <td>-0.007258</td>\n",
       "      <td>0.066936</td>\n",
       "    </tr>\n",
       "    <tr>\n",
       "      <th>AirportFrom</th>\n",
       "      <td>-0.021801</td>\n",
       "      <td>-0.031553</td>\n",
       "      <td>0.049697</td>\n",
       "      <td>0.098237</td>\n",
       "      <td>1.000000</td>\n",
       "      <td>0.015137</td>\n",
       "      <td>0.003732</td>\n",
       "      <td>0.018458</td>\n",
       "    </tr>\n",
       "    <tr>\n",
       "      <th>AirportTo</th>\n",
       "      <td>-0.022072</td>\n",
       "      <td>0.030602</td>\n",
       "      <td>0.086980</td>\n",
       "      <td>0.098791</td>\n",
       "      <td>0.015137</td>\n",
       "      <td>1.000000</td>\n",
       "      <td>0.003847</td>\n",
       "      <td>0.047988</td>\n",
       "    </tr>\n",
       "    <tr>\n",
       "      <th>DayOfWeek</th>\n",
       "      <td>0.000416</td>\n",
       "      <td>0.001272</td>\n",
       "      <td>0.013398</td>\n",
       "      <td>-0.007258</td>\n",
       "      <td>0.003732</td>\n",
       "      <td>0.003847</td>\n",
       "      <td>1.000000</td>\n",
       "      <td>-0.026198</td>\n",
       "    </tr>\n",
       "    <tr>\n",
       "      <th>Class</th>\n",
       "      <td>-0.046174</td>\n",
       "      <td>0.150457</td>\n",
       "      <td>0.040488</td>\n",
       "      <td>0.066936</td>\n",
       "      <td>0.018458</td>\n",
       "      <td>0.047988</td>\n",
       "      <td>-0.026198</td>\n",
       "      <td>1.000000</td>\n",
       "    </tr>\n",
       "  </tbody>\n",
       "</table>\n",
       "</div>"
      ],
      "text/plain": [
       "               Flight      Time    Length   Airline  AirportFrom  AirportTo  \\\n",
       "Flight       1.000000 -0.005750 -0.341481  0.095285    -0.021801  -0.022072   \n",
       "Time        -0.005750  1.000000 -0.020610  0.004381    -0.031553   0.030602   \n",
       "Length      -0.341481 -0.020610  1.000000 -0.207061     0.049697   0.086980   \n",
       "Airline      0.095285  0.004381 -0.207061  1.000000     0.098237   0.098791   \n",
       "AirportFrom -0.021801 -0.031553  0.049697  0.098237     1.000000   0.015137   \n",
       "AirportTo   -0.022072  0.030602  0.086980  0.098791     0.015137   1.000000   \n",
       "DayOfWeek    0.000416  0.001272  0.013398 -0.007258     0.003732   0.003847   \n",
       "Class       -0.046174  0.150457  0.040488  0.066936     0.018458   0.047988   \n",
       "\n",
       "             DayOfWeek     Class  \n",
       "Flight        0.000416 -0.046174  \n",
       "Time          0.001272  0.150457  \n",
       "Length        0.013398  0.040488  \n",
       "Airline      -0.007258  0.066936  \n",
       "AirportFrom   0.003732  0.018458  \n",
       "AirportTo     0.003847  0.047988  \n",
       "DayOfWeek     1.000000 -0.026198  \n",
       "Class        -0.026198  1.000000  "
      ]
     },
     "execution_count": 61,
     "metadata": {},
     "output_type": "execute_result"
    }
   ],
   "source": [
    "df.corr()"
   ]
  },
  {
   "cell_type": "markdown",
   "id": "1ae6acd5",
   "metadata": {},
   "source": [
    "# Model creation"
   ]
  },
  {
   "cell_type": "code",
   "execution_count": 62,
   "id": "4f6074f6",
   "metadata": {},
   "outputs": [],
   "source": [
    "y= df[\"Class\"].values\n",
    "x=df.drop(\"Class\",axis=1).values"
   ]
  },
  {
   "cell_type": "code",
   "execution_count": 124,
   "id": "f271c334",
   "metadata": {},
   "outputs": [],
   "source": [
    "from sklearn.preprocessing import MinMaxScaler\n",
    "scaler = MinMaxScaler()\n",
    "x= scaler.fit_transform(x)"
   ]
  },
  {
   "cell_type": "markdown",
   "id": "a04e1b24",
   "metadata": {},
   "source": [
    " # Random Forrest"
   ]
  },
  {
   "cell_type": "code",
   "execution_count": 125,
   "id": "4a8640c6",
   "metadata": {},
   "outputs": [],
   "source": [
    "from sklearn.model_selection import train_test_split\n",
    "x_train, x_test, y_train, y_test = train_test_split(x, y, test_size=0.25) # 75% training and 23% test"
   ]
  },
  {
   "cell_type": "code",
   "execution_count": 127,
   "id": "e1a5ad9d",
   "metadata": {},
   "outputs": [],
   "source": [
    "x_test= scaler.fit_transform(x_test)\n",
    "x_train= scaler.fit_transform(x_train)"
   ]
  },
  {
   "cell_type": "code",
   "execution_count": 121,
   "id": "2517cd00",
   "metadata": {},
   "outputs": [],
   "source": [
    "from sklearn.ensemble import RandomForestClassifier"
   ]
  },
  {
   "cell_type": "code",
   "execution_count": 122,
   "id": "98c286c4",
   "metadata": {},
   "outputs": [],
   "source": [
    "clf=RandomForestClassifier(n_estimators=100)"
   ]
  },
  {
   "cell_type": "code",
   "execution_count": 128,
   "id": "7e790ad9",
   "metadata": {},
   "outputs": [
    {
     "data": {
      "text/html": [
       "<style>#sk-container-id-2 {color: black;background-color: white;}#sk-container-id-2 pre{padding: 0;}#sk-container-id-2 div.sk-toggleable {background-color: white;}#sk-container-id-2 label.sk-toggleable__label {cursor: pointer;display: block;width: 100%;margin-bottom: 0;padding: 0.3em;box-sizing: border-box;text-align: center;}#sk-container-id-2 label.sk-toggleable__label-arrow:before {content: \"▸\";float: left;margin-right: 0.25em;color: #696969;}#sk-container-id-2 label.sk-toggleable__label-arrow:hover:before {color: black;}#sk-container-id-2 div.sk-estimator:hover label.sk-toggleable__label-arrow:before {color: black;}#sk-container-id-2 div.sk-toggleable__content {max-height: 0;max-width: 0;overflow: hidden;text-align: left;background-color: #f0f8ff;}#sk-container-id-2 div.sk-toggleable__content pre {margin: 0.2em;color: black;border-radius: 0.25em;background-color: #f0f8ff;}#sk-container-id-2 input.sk-toggleable__control:checked~div.sk-toggleable__content {max-height: 200px;max-width: 100%;overflow: auto;}#sk-container-id-2 input.sk-toggleable__control:checked~label.sk-toggleable__label-arrow:before {content: \"▾\";}#sk-container-id-2 div.sk-estimator input.sk-toggleable__control:checked~label.sk-toggleable__label {background-color: #d4ebff;}#sk-container-id-2 div.sk-label input.sk-toggleable__control:checked~label.sk-toggleable__label {background-color: #d4ebff;}#sk-container-id-2 input.sk-hidden--visually {border: 0;clip: rect(1px 1px 1px 1px);clip: rect(1px, 1px, 1px, 1px);height: 1px;margin: -1px;overflow: hidden;padding: 0;position: absolute;width: 1px;}#sk-container-id-2 div.sk-estimator {font-family: monospace;background-color: #f0f8ff;border: 1px dotted black;border-radius: 0.25em;box-sizing: border-box;margin-bottom: 0.5em;}#sk-container-id-2 div.sk-estimator:hover {background-color: #d4ebff;}#sk-container-id-2 div.sk-parallel-item::after {content: \"\";width: 100%;border-bottom: 1px solid gray;flex-grow: 1;}#sk-container-id-2 div.sk-label:hover label.sk-toggleable__label {background-color: #d4ebff;}#sk-container-id-2 div.sk-serial::before {content: \"\";position: absolute;border-left: 1px solid gray;box-sizing: border-box;top: 0;bottom: 0;left: 50%;z-index: 0;}#sk-container-id-2 div.sk-serial {display: flex;flex-direction: column;align-items: center;background-color: white;padding-right: 0.2em;padding-left: 0.2em;position: relative;}#sk-container-id-2 div.sk-item {position: relative;z-index: 1;}#sk-container-id-2 div.sk-parallel {display: flex;align-items: stretch;justify-content: center;background-color: white;position: relative;}#sk-container-id-2 div.sk-item::before, #sk-container-id-2 div.sk-parallel-item::before {content: \"\";position: absolute;border-left: 1px solid gray;box-sizing: border-box;top: 0;bottom: 0;left: 50%;z-index: -1;}#sk-container-id-2 div.sk-parallel-item {display: flex;flex-direction: column;z-index: 1;position: relative;background-color: white;}#sk-container-id-2 div.sk-parallel-item:first-child::after {align-self: flex-end;width: 50%;}#sk-container-id-2 div.sk-parallel-item:last-child::after {align-self: flex-start;width: 50%;}#sk-container-id-2 div.sk-parallel-item:only-child::after {width: 0;}#sk-container-id-2 div.sk-dashed-wrapped {border: 1px dashed gray;margin: 0 0.4em 0.5em 0.4em;box-sizing: border-box;padding-bottom: 0.4em;background-color: white;}#sk-container-id-2 div.sk-label label {font-family: monospace;font-weight: bold;display: inline-block;line-height: 1.2em;}#sk-container-id-2 div.sk-label-container {text-align: center;}#sk-container-id-2 div.sk-container {/* jupyter's `normalize.less` sets `[hidden] { display: none; }` but bootstrap.min.css set `[hidden] { display: none !important; }` so we also need the `!important` here to be able to override the default hidden behavior on the sphinx rendered scikit-learn.org. See: https://github.com/scikit-learn/scikit-learn/issues/21755 */display: inline-block !important;position: relative;}#sk-container-id-2 div.sk-text-repr-fallback {display: none;}</style><div id=\"sk-container-id-2\" class=\"sk-top-container\"><div class=\"sk-text-repr-fallback\"><pre>RandomForestClassifier()</pre><b>In a Jupyter environment, please rerun this cell to show the HTML representation or trust the notebook. <br />On GitHub, the HTML representation is unable to render, please try loading this page with nbviewer.org.</b></div><div class=\"sk-container\" hidden><div class=\"sk-item\"><div class=\"sk-estimator sk-toggleable\"><input class=\"sk-toggleable__control sk-hidden--visually\" id=\"sk-estimator-id-2\" type=\"checkbox\" checked><label for=\"sk-estimator-id-2\" class=\"sk-toggleable__label sk-toggleable__label-arrow\">RandomForestClassifier</label><div class=\"sk-toggleable__content\"><pre>RandomForestClassifier()</pre></div></div></div></div></div>"
      ],
      "text/plain": [
       "RandomForestClassifier()"
      ]
     },
     "execution_count": 128,
     "metadata": {},
     "output_type": "execute_result"
    }
   ],
   "source": [
    "clf.fit(x_train,y_train)"
   ]
  },
  {
   "cell_type": "code",
   "execution_count": 129,
   "id": "acf60628",
   "metadata": {},
   "outputs": [],
   "source": [
    "y_pred=clf.predict(x_test)"
   ]
  },
  {
   "cell_type": "code",
   "execution_count": 130,
   "id": "4df833d5",
   "metadata": {},
   "outputs": [],
   "source": [
    "from sklearn import metrics"
   ]
  },
  {
   "cell_type": "code",
   "execution_count": 131,
   "id": "3a6fae2c",
   "metadata": {},
   "outputs": [
    {
     "name": "stdout",
     "output_type": "stream",
     "text": [
      "Accuracy: 0.6176304821796716\n"
     ]
    }
   ],
   "source": [
    "print(\"Accuracy:\",metrics.accuracy_score(y_test, y_pred))\n"
   ]
  },
  {
   "cell_type": "markdown",
   "id": "aa3f3016",
   "metadata": {},
   "source": [
    "#### Accuary too low, I reduce the number of estimators and train again"
   ]
  },
  {
   "cell_type": "code",
   "execution_count": 73,
   "id": "32492b64",
   "metadata": {},
   "outputs": [
    {
     "name": "stdout",
     "output_type": "stream",
     "text": [
      "Accuracy: 0.6184610592824407\n"
     ]
    }
   ],
   "source": [
    "clf=RandomForestClassifier(n_estimators=25)\n",
    "clf.fit(x_train,y_train)\n",
    "y_pred=clf.predict(x_test)\n",
    "print(\"Accuracy:\",metrics.accuracy_score(y_test, y_pred))\n"
   ]
  },
  {
   "cell_type": "markdown",
   "id": "ee46340b",
   "metadata": {},
   "source": [
    "### Accuarcy too low again,I reduce the number of estimators, increase test and train again"
   ]
  },
  {
   "cell_type": "code",
   "execution_count": 97,
   "id": "7c703c83",
   "metadata": {},
   "outputs": [
    {
     "data": {
      "text/html": [
       "<div>\n",
       "<style scoped>\n",
       "    .dataframe tbody tr th:only-of-type {\n",
       "        vertical-align: middle;\n",
       "    }\n",
       "\n",
       "    .dataframe tbody tr th {\n",
       "        vertical-align: top;\n",
       "    }\n",
       "\n",
       "    .dataframe thead th {\n",
       "        text-align: right;\n",
       "    }\n",
       "</style>\n",
       "<table border=\"1\" class=\"dataframe\">\n",
       "  <thead>\n",
       "    <tr style=\"text-align: right;\">\n",
       "      <th></th>\n",
       "      <th>Flight</th>\n",
       "      <th>Time</th>\n",
       "      <th>Length</th>\n",
       "      <th>Airline</th>\n",
       "      <th>AirportTo</th>\n",
       "      <th>Class</th>\n",
       "    </tr>\n",
       "  </thead>\n",
       "  <tbody>\n",
       "    <tr>\n",
       "      <th>0</th>\n",
       "      <td>2313.0</td>\n",
       "      <td>1296.0</td>\n",
       "      <td>141.0</td>\n",
       "      <td>5</td>\n",
       "      <td>129</td>\n",
       "      <td>0</td>\n",
       "    </tr>\n",
       "    <tr>\n",
       "      <th>1</th>\n",
       "      <td>6948.0</td>\n",
       "      <td>360.0</td>\n",
       "      <td>146.0</td>\n",
       "      <td>12</td>\n",
       "      <td>208</td>\n",
       "      <td>0</td>\n",
       "    </tr>\n",
       "    <tr>\n",
       "      <th>2</th>\n",
       "      <td>1247.0</td>\n",
       "      <td>1170.0</td>\n",
       "      <td>143.0</td>\n",
       "      <td>3</td>\n",
       "      <td>60</td>\n",
       "      <td>0</td>\n",
       "    </tr>\n",
       "    <tr>\n",
       "      <th>3</th>\n",
       "      <td>31.0</td>\n",
       "      <td>1410.0</td>\n",
       "      <td>344.0</td>\n",
       "      <td>14</td>\n",
       "      <td>217</td>\n",
       "      <td>0</td>\n",
       "    </tr>\n",
       "    <tr>\n",
       "      <th>4</th>\n",
       "      <td>563.0</td>\n",
       "      <td>692.0</td>\n",
       "      <td>98.0</td>\n",
       "      <td>8</td>\n",
       "      <td>16</td>\n",
       "      <td>0</td>\n",
       "    </tr>\n",
       "    <tr>\n",
       "      <th>...</th>\n",
       "      <td>...</td>\n",
       "      <td>...</td>\n",
       "      <td>...</td>\n",
       "      <td>...</td>\n",
       "      <td>...</td>\n",
       "      <td>...</td>\n",
       "    </tr>\n",
       "    <tr>\n",
       "      <th>539377</th>\n",
       "      <td>6973.0</td>\n",
       "      <td>530.0</td>\n",
       "      <td>72.0</td>\n",
       "      <td>12</td>\n",
       "      <td>252</td>\n",
       "      <td>1</td>\n",
       "    </tr>\n",
       "    <tr>\n",
       "      <th>539378</th>\n",
       "      <td>1264.0</td>\n",
       "      <td>560.0</td>\n",
       "      <td>115.0</td>\n",
       "      <td>15</td>\n",
       "      <td>79</td>\n",
       "      <td>1</td>\n",
       "    </tr>\n",
       "    <tr>\n",
       "      <th>539379</th>\n",
       "      <td>5209.0</td>\n",
       "      <td>827.0</td>\n",
       "      <td>74.0</td>\n",
       "      <td>6</td>\n",
       "      <td>16</td>\n",
       "      <td>1</td>\n",
       "    </tr>\n",
       "    <tr>\n",
       "      <th>539380</th>\n",
       "      <td>607.0</td>\n",
       "      <td>715.0</td>\n",
       "      <td>65.0</td>\n",
       "      <td>15</td>\n",
       "      <td>43</td>\n",
       "      <td>1</td>\n",
       "    </tr>\n",
       "    <tr>\n",
       "      <th>539381</th>\n",
       "      <td>6377.0</td>\n",
       "      <td>770.0</td>\n",
       "      <td>55.0</td>\n",
       "      <td>12</td>\n",
       "      <td>79</td>\n",
       "      <td>1</td>\n",
       "    </tr>\n",
       "  </tbody>\n",
       "</table>\n",
       "<p>539382 rows × 6 columns</p>\n",
       "</div>"
      ],
      "text/plain": [
       "        Flight    Time  Length  Airline  AirportTo  Class\n",
       "0       2313.0  1296.0   141.0        5        129      0\n",
       "1       6948.0   360.0   146.0       12        208      0\n",
       "2       1247.0  1170.0   143.0        3         60      0\n",
       "3         31.0  1410.0   344.0       14        217      0\n",
       "4        563.0   692.0    98.0        8         16      0\n",
       "...        ...     ...     ...      ...        ...    ...\n",
       "539377  6973.0   530.0    72.0       12        252      1\n",
       "539378  1264.0   560.0   115.0       15         79      1\n",
       "539379  5209.0   827.0    74.0        6         16      1\n",
       "539380   607.0   715.0    65.0       15         43      1\n",
       "539381  6377.0   770.0    55.0       12         79      1\n",
       "\n",
       "[539382 rows x 6 columns]"
      ]
     },
     "execution_count": 97,
     "metadata": {},
     "output_type": "execute_result"
    }
   ],
   "source": [
    "df1=df\n",
    "df1.drop([\"AirportFrom\",\"DayOfWeek\"],axis=1)"
   ]
  },
  {
   "cell_type": "code",
   "execution_count": 100,
   "id": "b04d4b0d",
   "metadata": {},
   "outputs": [],
   "source": [
    "clf1=RandomForestClassifier(n_estimators=100)\n",
    "\n",
    "\n",
    "y1= df1[\"Class\"].values\n",
    "x1=df1.drop(\"Class\",axis=1).values\n",
    "\n",
    "\n",
    "x1= scaler.fit_transform(x1)\n",
    "x1_train, x1_test, y1_train, y1_test = train_test_split(x1, y1, test_size=0.3)\n",
    "clf1.fit(x1_train,y1_train)\n",
    "y1_pred=clf.predict(x1_test)"
   ]
  },
  {
   "cell_type": "code",
   "execution_count": 153,
   "id": "7f807291",
   "metadata": {},
   "outputs": [
    {
     "name": "stdout",
     "output_type": "stream",
     "text": [
      "\u001b[1mRandom Forrest Accuracy is:  0.5835471574981831\n"
     ]
    }
   ],
   "source": [
    "print('\\033[1m'+ \"Random Forrest Accuracy is: \",metrics.accuracy_score(y_test, y_pred))\n"
   ]
  },
  {
   "cell_type": "markdown",
   "id": "e4235619",
   "metadata": {},
   "source": [
    "### Logistic Regression"
   ]
  },
  {
   "cell_type": "code",
   "execution_count": 154,
   "id": "9d419470",
   "metadata": {},
   "outputs": [
    {
     "name": "stdout",
     "output_type": "stream",
     "text": [
      "\u001b[1mLogistic Regression Accuracy: 0.5835471574981831\n"
     ]
    }
   ],
   "source": [
    "from sklearn.linear_model import LogisticRegression\n",
    "logr = LogisticRegression(random_state=2)\n",
    "logr.fit(x_train,y_train)\n",
    "\n",
    "y_pred = logr.predict(x_test)\n",
    "print('\\033[1m'+ \"Logistic Regression Accuracy:\",metrics.accuracy_score(y_test, y_pred))\n"
   ]
  },
  {
   "cell_type": "code",
   "execution_count": 112,
   "id": "1e2271d6",
   "metadata": {},
   "outputs": [
    {
     "name": "stdout",
     "output_type": "stream",
     "text": [
      "[[57089 17868]\n",
      " [38370 21519]]\n"
     ]
    }
   ],
   "source": [
    "from sklearn.metrics import confusion_matrix\n",
    "cm = confusion_matrix(y_test,y_pred)\n",
    "print(cm)"
   ]
  },
  {
   "cell_type": "markdown",
   "id": "f085b2f3",
   "metadata": {},
   "source": [
    "### KNN Classifier"
   ]
  },
  {
   "cell_type": "code",
   "execution_count": 155,
   "id": "4351bfe5",
   "metadata": {},
   "outputs": [
    {
     "name": "stdout",
     "output_type": "stream",
     "text": [
      "\u001b[1mKNN Accuracy is : 0.6104000118653872\n"
     ]
    }
   ],
   "source": [
    "from sklearn.neighbors import KNeighborsClassifier\n",
    "\n",
    "knn = KNeighborsClassifier(n_neighbors=3, metric='minkowski')\n",
    "knn.fit(x_train,y_train)\n",
    "\n",
    "y_pred = knn.predict(x_test)\n",
    "print('\\033[1m'+ \"KNN Accuracy is :\",metrics.accuracy_score(y_test, y_pred))"
   ]
  },
  {
   "cell_type": "code",
   "execution_count": 132,
   "id": "9aae37da",
   "metadata": {},
   "outputs": [
    {
     "name": "stdout",
     "output_type": "stream",
     "text": [
      "[[50119 24929]\n",
      " [26632 33166]]\n"
     ]
    }
   ],
   "source": [
    "cm = confusion_matrix(y_test,y_pred)\n",
    "print(cm)"
   ]
  },
  {
   "cell_type": "markdown",
   "id": "75802308",
   "metadata": {},
   "source": [
    "## ANN (artificial neural network)"
   ]
  },
  {
   "cell_type": "code",
   "execution_count": 133,
   "id": "d60f2786",
   "metadata": {},
   "outputs": [],
   "source": [
    "from tensorflow.keras.models import Sequential\n",
    "from tensorflow.keras.layers import Dense"
   ]
  },
  {
   "cell_type": "code",
   "execution_count": 134,
   "id": "a77d01a4",
   "metadata": {},
   "outputs": [
    {
     "data": {
      "text/plain": [
       "(404536, 7)"
      ]
     },
     "execution_count": 134,
     "metadata": {},
     "output_type": "execute_result"
    }
   ],
   "source": [
    "x_train.shape"
   ]
  },
  {
   "cell_type": "code",
   "execution_count": 135,
   "id": "9d30afe8",
   "metadata": {},
   "outputs": [],
   "source": [
    "model =Sequential()\n",
    "\n",
    "model.add(Dense(12,activation=\"sigmoid\"))\n",
    "model.add(Dense(12,activation=\"sigmoid\"))\n",
    "model.add(Dense(12,activation=\"sigmoid\"))\n",
    "model.add(Dense(12,activation=\"sigmoid\"))\n",
    "model.add(Dense(12,activation=\"sigmoid\"))\n",
    "model.add(Dense(12,activation=\"sigmoid\"))\n",
    "model.add(Dense(12,activation=\"sigmoid\"))\n",
    "\n",
    "model.add(Dense(1))\n",
    "\n",
    "model.compile(optimizer=\"adam\",loss=\"mse\")"
   ]
  },
  {
   "cell_type": "code",
   "execution_count": 136,
   "id": "7eb50c98",
   "metadata": {},
   "outputs": [
    {
     "name": "stdout",
     "output_type": "stream",
     "text": [
      "Epoch 1/100\n",
      "1619/1619 [==============================] - 2s 1ms/step - loss: 0.2469 - val_loss: 0.2407\n",
      "Epoch 2/100\n",
      "1619/1619 [==============================] - 2s 1ms/step - loss: 0.2393 - val_loss: 0.2386\n",
      "Epoch 3/100\n",
      "1619/1619 [==============================] - 2s 1ms/step - loss: 0.2384 - val_loss: 0.2396\n",
      "Epoch 4/100\n",
      "1619/1619 [==============================] - 2s 1ms/step - loss: 0.2383 - val_loss: 0.2381\n",
      "Epoch 5/100\n",
      "1619/1619 [==============================] - 2s 1ms/step - loss: 0.2382 - val_loss: 0.2379\n",
      "Epoch 6/100\n",
      "1619/1619 [==============================] - 2s 1ms/step - loss: 0.2382 - val_loss: 0.2379\n",
      "Epoch 7/100\n",
      "1619/1619 [==============================] - 2s 1ms/step - loss: 0.2383 - val_loss: 0.2385\n",
      "Epoch 8/100\n",
      "1619/1619 [==============================] - 2s 1ms/step - loss: 0.2382 - val_loss: 0.2381\n",
      "Epoch 9/100\n",
      "1619/1619 [==============================] - 2s 1ms/step - loss: 0.2382 - val_loss: 0.2379\n",
      "Epoch 10/100\n",
      "1619/1619 [==============================] - 2s 1ms/step - loss: 0.2382 - val_loss: 0.2397\n",
      "Epoch 11/100\n",
      "1619/1619 [==============================] - 2s 1ms/step - loss: 0.2382 - val_loss: 0.2386\n",
      "Epoch 12/100\n",
      "1619/1619 [==============================] - 2s 1ms/step - loss: 0.2381 - val_loss: 0.2380\n",
      "Epoch 13/100\n",
      "1619/1619 [==============================] - 2s 1ms/step - loss: 0.2381 - val_loss: 0.2379\n",
      "Epoch 14/100\n",
      "1619/1619 [==============================] - 2s 1ms/step - loss: 0.2381 - val_loss: 0.2378\n",
      "Epoch 15/100\n",
      "1619/1619 [==============================] - 2s 1ms/step - loss: 0.2380 - val_loss: 0.2380\n",
      "Epoch 16/100\n",
      "1619/1619 [==============================] - 2s 1ms/step - loss: 0.2380 - val_loss: 0.2383\n",
      "Epoch 17/100\n",
      "1619/1619 [==============================] - 2s 1ms/step - loss: 0.2380 - val_loss: 0.2379\n",
      "Epoch 18/100\n",
      "1619/1619 [==============================] - 2s 1ms/step - loss: 0.2379 - val_loss: 0.2376\n",
      "Epoch 19/100\n",
      "1619/1619 [==============================] - 2s 1ms/step - loss: 0.2378 - val_loss: 0.2375\n",
      "Epoch 20/100\n",
      "1619/1619 [==============================] - 2s 1ms/step - loss: 0.2378 - val_loss: 0.2376\n",
      "Epoch 21/100\n",
      "1619/1619 [==============================] - 2s 1ms/step - loss: 0.2377 - val_loss: 0.2374\n",
      "Epoch 22/100\n",
      "1619/1619 [==============================] - 2s 1ms/step - loss: 0.2376 - val_loss: 0.2375\n",
      "Epoch 23/100\n",
      "1619/1619 [==============================] - 2s 1ms/step - loss: 0.2375 - val_loss: 0.2372\n",
      "Epoch 24/100\n",
      "1619/1619 [==============================] - 2s 1ms/step - loss: 0.2374 - val_loss: 0.2373\n",
      "Epoch 25/100\n",
      "1619/1619 [==============================] - 2s 2ms/step - loss: 0.2373 - val_loss: 0.2370\n",
      "Epoch 26/100\n",
      "1619/1619 [==============================] - 6s 4ms/step - loss: 0.2372 - val_loss: 0.2370\n",
      "Epoch 27/100\n",
      "1619/1619 [==============================] - 5s 3ms/step - loss: 0.2371 - val_loss: 0.2377\n",
      "Epoch 28/100\n",
      "1619/1619 [==============================] - 5s 3ms/step - loss: 0.2370 - val_loss: 0.2367\n",
      "Epoch 29/100\n",
      "1619/1619 [==============================] - 5s 3ms/step - loss: 0.2369 - val_loss: 0.2370\n",
      "Epoch 30/100\n",
      "1619/1619 [==============================] - 5s 3ms/step - loss: 0.2368 - val_loss: 0.2368\n",
      "Epoch 31/100\n",
      "1619/1619 [==============================] - 5s 3ms/step - loss: 0.2367 - val_loss: 0.2365\n",
      "Epoch 32/100\n",
      "1619/1619 [==============================] - 6s 4ms/step - loss: 0.2366 - val_loss: 0.2366\n",
      "Epoch 33/100\n",
      "1619/1619 [==============================] - 5s 3ms/step - loss: 0.2366 - val_loss: 0.2364\n",
      "Epoch 34/100\n",
      "1619/1619 [==============================] - 6s 4ms/step - loss: 0.2365 - val_loss: 0.2364\n",
      "Epoch 35/100\n",
      "1619/1619 [==============================] - 5s 3ms/step - loss: 0.2364 - val_loss: 0.2363\n",
      "Epoch 36/100\n",
      "1619/1619 [==============================] - 6s 4ms/step - loss: 0.2364 - val_loss: 0.2362\n",
      "Epoch 37/100\n",
      "1619/1619 [==============================] - 5s 3ms/step - loss: 0.2362 - val_loss: 0.2362\n",
      "Epoch 38/100\n",
      "1619/1619 [==============================] - 6s 4ms/step - loss: 0.2361 - val_loss: 0.2360\n",
      "Epoch 39/100\n",
      "1619/1619 [==============================] - 5s 3ms/step - loss: 0.2360 - val_loss: 0.2358\n",
      "Epoch 40/100\n",
      "1619/1619 [==============================] - 5s 3ms/step - loss: 0.2358 - val_loss: 0.2357\n",
      "Epoch 41/100\n",
      "1619/1619 [==============================] - 5s 3ms/step - loss: 0.2357 - val_loss: 0.2356\n",
      "Epoch 42/100\n",
      "1619/1619 [==============================] - 5s 3ms/step - loss: 0.2355 - val_loss: 0.2356\n",
      "Epoch 43/100\n",
      "1619/1619 [==============================] - 5s 3ms/step - loss: 0.2353 - val_loss: 0.2356\n",
      "Epoch 44/100\n",
      "1619/1619 [==============================] - 6s 4ms/step - loss: 0.2352 - val_loss: 0.2352\n",
      "Epoch 45/100\n",
      "1619/1619 [==============================] - 5s 3ms/step - loss: 0.2349 - val_loss: 0.2349\n",
      "Epoch 46/100\n",
      "1619/1619 [==============================] - 5s 3ms/step - loss: 0.2348 - val_loss: 0.2349\n",
      "Epoch 47/100\n",
      "1619/1619 [==============================] - 5s 3ms/step - loss: 0.2346 - val_loss: 0.2349\n",
      "Epoch 48/100\n",
      "1619/1619 [==============================] - 5s 3ms/step - loss: 0.2345 - val_loss: 0.2344\n",
      "Epoch 49/100\n",
      "1619/1619 [==============================] - 6s 4ms/step - loss: 0.2344 - val_loss: 0.2344\n",
      "Epoch 50/100\n",
      "1619/1619 [==============================] - 5s 3ms/step - loss: 0.2342 - val_loss: 0.2347\n",
      "Epoch 51/100\n",
      "1619/1619 [==============================] - 5s 3ms/step - loss: 0.2340 - val_loss: 0.2343\n",
      "Epoch 52/100\n",
      "1619/1619 [==============================] - 5s 3ms/step - loss: 0.2338 - val_loss: 0.2338\n",
      "Epoch 53/100\n",
      "1619/1619 [==============================] - 6s 4ms/step - loss: 0.2337 - val_loss: 0.2338\n",
      "Epoch 54/100\n",
      "1619/1619 [==============================] - 5s 3ms/step - loss: 0.2335 - val_loss: 0.2335\n",
      "Epoch 55/100\n",
      "1619/1619 [==============================] - 5s 3ms/step - loss: 0.2334 - val_loss: 0.2337\n",
      "Epoch 56/100\n",
      "1619/1619 [==============================] - 5s 3ms/step - loss: 0.2331 - val_loss: 0.2336\n",
      "Epoch 57/100\n",
      "1619/1619 [==============================] - 6s 4ms/step - loss: 0.2329 - val_loss: 0.2329\n",
      "Epoch 58/100\n",
      "1619/1619 [==============================] - 5s 3ms/step - loss: 0.2327 - val_loss: 0.2328\n",
      "Epoch 59/100\n",
      "1619/1619 [==============================] - 5s 3ms/step - loss: 0.2326 - val_loss: 0.2326\n",
      "Epoch 60/100\n",
      "1619/1619 [==============================] - 6s 3ms/step - loss: 0.2324 - val_loss: 0.2325\n",
      "Epoch 61/100\n",
      "1619/1619 [==============================] - 6s 4ms/step - loss: 0.2322 - val_loss: 0.2322\n",
      "Epoch 62/100\n",
      "1619/1619 [==============================] - 5s 3ms/step - loss: 0.2320 - val_loss: 0.2320\n",
      "Epoch 63/100\n",
      "1619/1619 [==============================] - 5s 3ms/step - loss: 0.2319 - val_loss: 0.2332\n",
      "Epoch 64/100\n",
      "1619/1619 [==============================] - 5s 3ms/step - loss: 0.2317 - val_loss: 0.2320\n",
      "Epoch 65/100\n",
      "1619/1619 [==============================] - 5s 3ms/step - loss: 0.2315 - val_loss: 0.2317\n",
      "Epoch 66/100\n",
      "1619/1619 [==============================] - 5s 3ms/step - loss: 0.2314 - val_loss: 0.2316\n",
      "Epoch 67/100\n",
      "1619/1619 [==============================] - 6s 4ms/step - loss: 0.2313 - val_loss: 0.2313\n",
      "Epoch 68/100\n",
      "1619/1619 [==============================] - 6s 4ms/step - loss: 0.2312 - val_loss: 0.2318\n",
      "Epoch 69/100\n",
      "1619/1619 [==============================] - 6s 3ms/step - loss: 0.2311 - val_loss: 0.2311\n",
      "Epoch 70/100\n",
      "1619/1619 [==============================] - 5s 3ms/step - loss: 0.2310 - val_loss: 0.2309\n",
      "Epoch 71/100\n",
      "1619/1619 [==============================] - 6s 4ms/step - loss: 0.2309 - val_loss: 0.2310\n",
      "Epoch 72/100\n",
      "1619/1619 [==============================] - 5s 3ms/step - loss: 0.2307 - val_loss: 0.2308\n",
      "Epoch 73/100\n",
      "1619/1619 [==============================] - 5s 3ms/step - loss: 0.2306 - val_loss: 0.2308\n",
      "Epoch 74/100\n",
      "1619/1619 [==============================] - 7s 4ms/step - loss: 0.2306 - val_loss: 0.2307\n",
      "Epoch 75/100\n",
      "1619/1619 [==============================] - 6s 4ms/step - loss: 0.2304 - val_loss: 0.2310\n",
      "Epoch 76/100\n",
      "1619/1619 [==============================] - 6s 4ms/step - loss: 0.2303 - val_loss: 0.2303\n",
      "Epoch 77/100\n",
      "1619/1619 [==============================] - 6s 4ms/step - loss: 0.2303 - val_loss: 0.2301\n",
      "Epoch 78/100\n",
      "1619/1619 [==============================] - 7s 4ms/step - loss: 0.2301 - val_loss: 0.2302\n",
      "Epoch 79/100\n",
      "1619/1619 [==============================] - 6s 4ms/step - loss: 0.2300 - val_loss: 0.2298\n"
     ]
    },
    {
     "name": "stdout",
     "output_type": "stream",
     "text": [
      "Epoch 80/100\n",
      "1619/1619 [==============================] - 7s 4ms/step - loss: 0.2298 - val_loss: 0.2297\n",
      "Epoch 81/100\n",
      "1619/1619 [==============================] - 6s 3ms/step - loss: 0.2297 - val_loss: 0.2308\n",
      "Epoch 82/100\n",
      "1619/1619 [==============================] - 7s 4ms/step - loss: 0.2295 - val_loss: 0.2296\n",
      "Epoch 83/100\n",
      "1619/1619 [==============================] - 7s 4ms/step - loss: 0.2293 - val_loss: 0.2293\n",
      "Epoch 84/100\n",
      "1619/1619 [==============================] - 7s 4ms/step - loss: 0.2292 - val_loss: 0.2297\n",
      "Epoch 85/100\n",
      "1619/1619 [==============================] - 7s 4ms/step - loss: 0.2291 - val_loss: 0.2292\n",
      "Epoch 86/100\n",
      "1619/1619 [==============================] - 5s 3ms/step - loss: 0.2290 - val_loss: 0.2293\n",
      "Epoch 87/100\n",
      "1619/1619 [==============================] - 6s 4ms/step - loss: 0.2290 - val_loss: 0.2296\n",
      "Epoch 88/100\n",
      "1619/1619 [==============================] - 5s 3ms/step - loss: 0.2289 - val_loss: 0.2289\n",
      "Epoch 89/100\n",
      "1619/1619 [==============================] - 5s 3ms/step - loss: 0.2289 - val_loss: 0.2288\n",
      "Epoch 90/100\n",
      "1619/1619 [==============================] - 6s 4ms/step - loss: 0.2288 - val_loss: 0.2292\n",
      "Epoch 91/100\n",
      "1619/1619 [==============================] - 7s 4ms/step - loss: 0.2288 - val_loss: 0.2305\n",
      "Epoch 92/100\n",
      "1619/1619 [==============================] - 5s 3ms/step - loss: 0.2287 - val_loss: 0.2292\n",
      "Epoch 93/100\n",
      "1619/1619 [==============================] - 5s 3ms/step - loss: 0.2287 - val_loss: 0.2288\n",
      "Epoch 94/100\n",
      "1619/1619 [==============================] - 5s 3ms/step - loss: 0.2286 - val_loss: 0.2286\n",
      "Epoch 95/100\n",
      "1619/1619 [==============================] - 7s 4ms/step - loss: 0.2286 - val_loss: 0.2288\n",
      "Epoch 96/100\n",
      "1619/1619 [==============================] - 7s 4ms/step - loss: 0.2285 - val_loss: 0.2296\n",
      "Epoch 97/100\n",
      "1619/1619 [==============================] - 6s 4ms/step - loss: 0.2285 - val_loss: 0.2292\n",
      "Epoch 98/100\n",
      "1619/1619 [==============================] - 7s 4ms/step - loss: 0.2285 - val_loss: 0.2285\n",
      "Epoch 99/100\n",
      "1619/1619 [==============================] - 6s 4ms/step - loss: 0.2284 - val_loss: 0.2287\n",
      "Epoch 100/100\n",
      "1619/1619 [==============================] - 6s 3ms/step - loss: 0.2283 - val_loss: 0.2285\n"
     ]
    },
    {
     "data": {
      "text/plain": [
       "<tensorflow.python.keras.callbacks.History at 0x227606c50a0>"
      ]
     },
     "execution_count": 136,
     "metadata": {},
     "output_type": "execute_result"
    }
   ],
   "source": [
    "model.fit(x=x_train,y=y_train,validation_data=(x_test,y_test),batch_size=250,epochs=100)\n"
   ]
  },
  {
   "cell_type": "code",
   "execution_count": 143,
   "id": "b9195b85",
   "metadata": {},
   "outputs": [],
   "source": [
    "y_pred = model.predict(x_test)"
   ]
  },
  {
   "cell_type": "code",
   "execution_count": 144,
   "id": "b6369bfa",
   "metadata": {},
   "outputs": [],
   "source": [
    "y_pred = (y_pred > 0.5)\n"
   ]
  },
  {
   "cell_type": "code",
   "execution_count": 139,
   "id": "0628d006",
   "metadata": {},
   "outputs": [
    {
     "name": "stdout",
     "output_type": "stream",
     "text": [
      "[[0.441301 ]\n",
      " [0.5069789]\n",
      " [0.8133085]\n",
      " ...\n",
      " [0.2983913]\n",
      " [0.5268021]\n",
      " [0.3871466]]\n"
     ]
    }
   ],
   "source": [
    "print(y_pred)"
   ]
  },
  {
   "cell_type": "code",
   "execution_count": 156,
   "id": "5166e96e",
   "metadata": {},
   "outputs": [
    {
     "name": "stdout",
     "output_type": "stream",
     "text": [
      "\u001b[1mTest Accuracy is 61.04000118653872\n"
     ]
    }
   ],
   "source": [
    "from sklearn.metrics import confusion_matrix\n",
    "cm = confusion_matrix(y_test, y_pred)\n",
    "testAccuracy = (cm[0][0]+cm[1][1])/(cm[0][0]+cm[0][1]+cm[1][0]+cm[1][1]) * 100\n",
    "print('\\033[1m' +\"Test Accuracy is \" +str(testAccuracy))"
   ]
  },
  {
   "cell_type": "markdown",
   "id": "a7ce5972",
   "metadata": {},
   "source": [
    "## I could not increase its Accuracy above 61%. KNN,RF and ANN worked with approximately 61% success"
   ]
  }
 ],
 "metadata": {
  "kernelspec": {
   "display_name": "Python 3",
   "language": "python",
   "name": "python3"
  },
  "language_info": {
   "codemirror_mode": {
    "name": "ipython",
    "version": 3
   },
   "file_extension": ".py",
   "mimetype": "text/x-python",
   "name": "python",
   "nbconvert_exporter": "python",
   "pygments_lexer": "ipython3",
   "version": "3.8.8"
  }
 },
 "nbformat": 4,
 "nbformat_minor": 5
}
